{
  "cells" : [ {
    "metadata" : {
      "trusted" : true,
      "collapsed" : false
    },
    "cell_type" : "code",
    "source" : [ "val NUM_SAMPLES = 10000\n", "val count = sc.parallelize(1 to NUM_SAMPLES).filter { _ =>\n", "  val x = math.random\n", "  val y = math.random\n", "  x*x + y*y < 1\n", "}.count()\n", "\n", "println(s\"Pi is roughly ${4.0 * count / NUM_SAMPLES}\")" ],
    "execution_count" : 1,
    "outputs" : [ {
      "output_type" : "stream",
      "text" : [ "Pi is roughly 3.1388\n", "NUM_SAMPLES: Int = 10000\n", "count: Long = 7847\n" ],
      "name" : "stdout"
    } ]
  }, {
    "metadata" : {
      "trusted" : true,
      "collapsed" : true
    },
    "cell_type" : "code",
    "source" : [ "" ],
    "execution_count" : null,
    "outputs" : [ ]
  } ],
  "metadata" : {
    "kernelspec" : {
      "name" : "scala",
      "display_name" : "Spark",
      "language" : "scala"
    },
    "language_info" : {
      "name" : "scala",
      "codemirror_mode" : "text/x-scala"
    }
  },
  "nbformat" : 4,
  "nbformat_minor" : 0
}